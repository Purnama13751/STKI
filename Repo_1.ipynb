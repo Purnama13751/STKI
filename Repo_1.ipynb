{
  "nbformat": 4,
  "nbformat_minor": 0,
  "metadata": {
    "colab": {
      "provenance": [],
      "toc_visible": true
    },
    "kernelspec": {
      "name": "python3",
      "display_name": "Python 3"
    },
    "language_info": {
      "name": "python"
    }
  },
  "cells": [
    {
      "cell_type": "markdown",
      "source": [
        "##Lower Case##\n",
        "Merubah format teks menjadi kecil semua"
      ],
      "metadata": {
        "id": "vscpFS_eg-k6"
      }
    },
    {
      "cell_type": "code",
      "execution_count": null,
      "metadata": {
        "colab": {
          "base_uri": "https://localhost:8080/"
        },
        "id": "e2XUnJlseqd2",
        "outputId": "ddca0e30-2a64-4142-aa4f-02681782553f"
      },
      "outputs": [
        {
          "output_type": "stream",
          "name": "stdout",
          "text": [
            "bali united tunggu penawaran terbaik untuk comvalius\n"
          ]
        }
      ],
      "source": [
        "kalimat = \"Bali United Tunggu Penawaran Terbaik untuk Comvalius\"\n",
        "lower_case = kalimat.lower()\n",
        "print(lower_case)"
      ]
    },
    {
      "cell_type": "markdown",
      "source": [
        "##Removing Number##\n",
        "Menghilangkan angka"
      ],
      "metadata": {
        "id": "peQthC00hf_R"
      }
    },
    {
      "cell_type": "code",
      "source": [
        "import re\n",
        "kalimat = \"Termasuk Comvalius yang sudah menyumbangkan 35 gol sekaligus memecahkan rekor top skorer yang sejak 1995 dipegang Peri Sandria\"\n",
        "\n",
        "hasil = re.sub(r\"\\d+\", \"\", kalimat)\n",
        "hasil"
      ],
      "metadata": {
        "colab": {
          "base_uri": "https://localhost:8080/",
          "height": 52
        },
        "id": "4UFdNCS4gBrY",
        "outputId": "25268334-76f9-4928-d6e9-fd16ec90395f"
      },
      "execution_count": null,
      "outputs": [
        {
          "output_type": "execute_result",
          "data": {
            "text/plain": [
              "'Termasuk Comvalius yang sudah menyumbangkan  gol sekaligus memecahkan rekor top skorer yang sejak  dipegang Peri Sandria'"
            ],
            "application/vnd.google.colaboratory.intrinsic+json": {
              "type": "string"
            }
          },
          "metadata": {},
          "execution_count": 4
        }
      ]
    },
    {
      "cell_type": "markdown",
      "source": [
        "##Separating Sentence with Split##\n",
        " Memisahkan string ke dalam list dengan spasi sebagai pemisah"
      ],
      "metadata": {
        "id": "k2iK9Edyh9t_"
      }
    },
    {
      "cell_type": "code",
      "source": [
        "kalimat = \"Ayah Ibu Kakak Adik Nenek Kakek\"\n",
        "pisah = kalimat.split()\n",
        "\n",
        "pisah"
      ],
      "metadata": {
        "colab": {
          "base_uri": "https://localhost:8080/"
        },
        "id": "BHl3wjKKhmoz",
        "outputId": "b76d9686-91a9-441e-d2f7-8e8a26027b64"
      },
      "execution_count": null,
      "outputs": [
        {
          "output_type": "execute_result",
          "data": {
            "text/plain": [
              "['Ayah', 'Ibu', 'Kakak', 'Adik', 'Nenek', 'Kakek']"
            ]
          },
          "metadata": {},
          "execution_count": 5
        }
      ]
    },
    {
      "cell_type": "code",
      "source": [
        "import nltk\n",
        "nltk.download('punkt')\n",
        "nltk.download('stopwords')"
      ],
      "metadata": {
        "colab": {
          "base_uri": "https://localhost:8080/"
        },
        "id": "4UNj8f1Jjqv7",
        "outputId": "43f12ffe-bb43-4952-d73b-66afa9c60e58"
      },
      "execution_count": null,
      "outputs": [
        {
          "output_type": "stream",
          "name": "stderr",
          "text": [
            "[nltk_data] Downloading package punkt to /root/nltk_data...\n",
            "[nltk_data]   Package punkt is already up-to-date!\n",
            "[nltk_data] Downloading package stopwords to /root/nltk_data...\n",
            "[nltk_data]   Package stopwords is already up-to-date!\n",
            "[nltk_data] Error loading PorterStemmer: Package 'PorterStemmer' not\n",
            "[nltk_data]     found in index\n"
          ]
        },
        {
          "output_type": "execute_result",
          "data": {
            "text/plain": [
              "False"
            ]
          },
          "metadata": {},
          "execution_count": 30
        }
      ]
    },
    {
      "cell_type": "markdown",
      "source": [
        "##Tokenizing use NLTk##\n",
        "Menggunakan library NLTK untuk memisah kata pada kalimat"
      ],
      "metadata": {
        "id": "GOFDiLwfkpqS"
      }
    },
    {
      "cell_type": "code",
      "source": [
        "from nltk.tokenize import word_tokenize\n",
        "kalimat = \"Ibu memasak sate rebus dipanggang yang mana Ayah yang menangkap sapinya.\"\n",
        "\n",
        "tokens = nltk.tokenize.word_tokenize(kalimat)\n",
        "tokens"
      ],
      "metadata": {
        "colab": {
          "base_uri": "https://localhost:8080/"
        },
        "id": "jPeHr6YYj-WL",
        "outputId": "4f09c0c2-3947-48f2-a277-6d0a7faa7afb"
      },
      "execution_count": null,
      "outputs": [
        {
          "output_type": "execute_result",
          "data": {
            "text/plain": [
              "['Ibu',\n",
              " 'memasak',\n",
              " 'sate',\n",
              " 'rebus',\n",
              " 'dipanggang',\n",
              " 'yang',\n",
              " 'mana',\n",
              " 'Ayah',\n",
              " 'yang',\n",
              " 'menangkap',\n",
              " 'sapinya',\n",
              " '.']"
            ]
          },
          "metadata": {},
          "execution_count": 17
        }
      ]
    },
    {
      "cell_type": "markdown",
      "source": [
        "##Frequency Distribution##\n",
        "Menghitung frekuensi kemunculan setiap kata dalam kalimat"
      ],
      "metadata": {
        "id": "XDTcoBq-mLcl"
      }
    },
    {
      "cell_type": "code",
      "source": [
        "import string\n",
        "from nltk.tokenize import word_tokenize\n",
        "from nltk.probability import FreqDist\n",
        "\n",
        "kalimat = \"Adhys kerap tidur saat pelajaran dikampus. Menurut Adhys tidur itu ibadah.\"\n",
        "kalimat = kalimat.translate(str.maketrans('','',string.punctuation)).lower()\n",
        "\n",
        "tokens = nltk.tokenize.word_tokenize(kalimat)\n",
        "kemunculan = nltk.FreqDist(tokens)\n",
        "\n",
        "print(kemunculan.most_common())"
      ],
      "metadata": {
        "colab": {
          "base_uri": "https://localhost:8080/"
        },
        "id": "Zal6L36eleM9",
        "outputId": "50db51f2-0a75-4df8-df19-383bdf9e0288"
      },
      "execution_count": null,
      "outputs": [
        {
          "output_type": "stream",
          "name": "stdout",
          "text": [
            "[('adhys', 2), ('tidur', 2), ('kerap', 1), ('saat', 1), ('pelajaran', 1), ('dikampus', 1), ('menurut', 1), ('itu', 1), ('ibadah', 1)]\n"
          ]
        }
      ]
    },
    {
      "cell_type": "markdown",
      "source": [
        "##Frequency Distribution Visualization with Matplotlib##\n",
        "Menggambar frekuensi kemunculan kata dalam kalimat"
      ],
      "metadata": {
        "id": "9G7J5cXDmv8v"
      }
    },
    {
      "cell_type": "code",
      "source": [
        "import matplotlib.pyplot as plt\n",
        "\n",
        "kemunculan.plot(25, cumulative=True)\n",
        "\n",
        "plt.show()"
      ],
      "metadata": {
        "colab": {
          "base_uri": "https://localhost:8080/",
          "height": 503
        },
        "id": "BRjKGhLsmb25",
        "outputId": "3bc94389-3726-4273-ae3b-d2e9db2c8185"
      },
      "execution_count": null,
      "outputs": [
        {
          "output_type": "display_data",
          "data": {
            "text/plain": [
              "<Figure size 640x480 with 1 Axes>"
            ],
            "image/png": "[encoded data removed]"
          },
          "metadata": {}
        }
      ]
    },
    {
      "cell_type": "code",
      "source": [
        "!pip install Sastrawi"
      ],
      "metadata": {
        "colab": {
          "base_uri": "https://localhost:8080/"
        },
        "id": "rHpGtT__o05S",
        "outputId": "44da532b-652c-4ed4-e769-8366ba441948"
      },
      "execution_count": null,
      "outputs": [
        {
          "output_type": "stream",
          "name": "stdout",
          "text": [
            "Collecting Sastrawi\n",
            "  Downloading Sastrawi-1.0.1-py2.py3-none-any.whl (209 kB)\n",
            "\u001b[?25l     \u001b[90m━━━━━━━━━━━━━━━━━━━━━━━━━━━━━━━━━━━━━━━━\u001b[0m \u001b[32m0.0/209.7 kB\u001b[0m \u001b[31m?\u001b[0m eta \u001b[36m-:--:--\u001b[0m\r\u001b[2K     \u001b[91m━━━━━━━━━━━━━━━━━━━━━━━━━━━━━━\u001b[0m\u001b[90m╺\u001b[0m\u001b[90m━━━━━━━━\u001b[0m \u001b[32m163.8/209.7 kB\u001b[0m \u001b[31m5.1 MB/s\u001b[0m eta \u001b[36m0:00:01\u001b[0m\r\u001b[2K     \u001b[90m━━━━━━━━━━━━━━━━━━━━━━━━━━━━━━━━━━━━━━━\u001b[0m \u001b[32m209.7/209.7 kB\u001b[0m \u001b[31m4.7 MB/s\u001b[0m eta \u001b[36m0:00:00\u001b[0m\n",
            "\u001b[?25hInstalling collected packages: Sastrawi\n",
            "Successfully installed Sastrawi-1.0.1\n"
          ]
        }
      ]
    },
    {
      "cell_type": "markdown",
      "source": [
        "##Filtering use Sastrwari##\n",
        "Melihat stopword pada sastrawi"
      ],
      "metadata": {
        "id": "UaacAhoTpJVj"
      }
    },
    {
      "cell_type": "code",
      "source": [
        "from Sastrawi.StopWordRemover.StopWordRemoverFactory import StopWordRemoverFactory\n",
        "\n",
        "factory = StopWordRemoverFactory()\n",
        "stopwords = factory.get_stop_words()\n",
        "print(stopwords)"
      ],
      "metadata": {
        "colab": {
          "base_uri": "https://localhost:8080/"
        },
        "id": "csQku8OrnjPS",
        "outputId": "912e2129-1f8e-44d2-90be-89ab1b4ddac5"
      },
      "execution_count": null,
      "outputs": [
        {
          "output_type": "stream",
          "name": "stdout",
          "text": [
            "['yang', 'untuk', 'pada', 'ke', 'para', 'namun', 'menurut', 'antara', 'dia', 'dua', 'ia', 'seperti', 'jika', 'jika', 'sehingga', 'kembali', 'dan', 'tidak', 'ini', 'karena', 'kepada', 'oleh', 'saat', 'harus', 'sementara', 'setelah', 'belum', 'kami', 'sekitar', 'bagi', 'serta', 'di', 'dari', 'telah', 'sebagai', 'masih', 'hal', 'ketika', 'adalah', 'itu', 'dalam', 'bisa', 'bahwa', 'atau', 'hanya', 'kita', 'dengan', 'akan', 'juga', 'ada', 'mereka', 'sudah', 'saya', 'terhadap', 'secara', 'agar', 'lain', 'anda', 'begitu', 'mengapa', 'kenapa', 'yaitu', 'yakni', 'daripada', 'itulah', 'lagi', 'maka', 'tentang', 'demi', 'dimana', 'kemana', 'pula', 'sambil', 'sebelum', 'sesudah', 'supaya', 'guna', 'kah', 'pun', 'sampai', 'sedangkan', 'selagi', 'sementara', 'tetapi', 'apakah', 'kecuali', 'sebab', 'selain', 'seolah', 'seraya', 'seterusnya', 'tanpa', 'agak', 'boleh', 'dapat', 'dsb', 'dst', 'dll', 'dahulu', 'dulunya', 'anu', 'demikian', 'tapi', 'ingin', 'juga', 'nggak', 'mari', 'nanti', 'melainkan', 'oh', 'ok', 'seharusnya', 'sebetulnya', 'setiap', 'setidaknya', 'sesuatu', 'pasti', 'saja', 'toh', 'ya', 'walau', 'tolong', 'tentu', 'amat', 'apalagi', 'bagaimanapun']\n"
          ]
        }
      ]
    },
    {
      "cell_type": "markdown",
      "source": [
        "##Filtering Menggunakan Sastrawi##"
      ],
      "metadata": {
        "id": "c7waJFC3pjFs"
      }
    },
    {
      "cell_type": "code",
      "source": [
        "from Sastrawi.StopWordRemover.StopWordRemoverFactory import StopWordRemoverFactory\n",
        "from nltk.tokenize import word_tokenize\n",
        "\n",
        "factory = StopWordRemoverFactory()\n",
        "stopword = factory.create_stop_word_remover()\n",
        "\n",
        "kalimat = \"Adhys kerap tidur saat pelajaran dikampus. Menurut Adhys tidur itu ibadah.\"\n",
        "kalimat = kalimat.translate(str.maketrans('','',string.punctuation)).lower()\n",
        "\n",
        "stop = stopword.remove(kalimat)\n",
        "tokens = nltk.tokenize.word_tokenize(stop)\n",
        "\n",
        "print(tokens)"
      ],
      "metadata": {
        "colab": {
          "base_uri": "https://localhost:8080/"
        },
        "id": "_taH_I4UpYuD",
        "outputId": "e39b1c85-9c1a-4ae1-d736-4f9af543bb48"
      },
      "execution_count": null,
      "outputs": [
        {
          "output_type": "stream",
          "name": "stdout",
          "text": [
            "['adhys', 'kerap', 'tidur', 'pelajaran', 'dikampus', 'adhys', 'tidur', 'ibadah']\n"
          ]
        }
      ]
    },
    {
      "cell_type": "markdown",
      "source": [
        "##Add Custom Stopword##\n",
        "Menambahkan kata distopword untuk dihilangkan pada teks"
      ],
      "metadata": {
        "id": "XYBPKoN7qN9x"
      }
    },
    {
      "cell_type": "code",
      "source": [
        "from Sastrawi.StopWordRemover.StopWordRemoverFactory import StopWordRemoverFactory, StopWordRemover, ArrayDictionary\n",
        "from nltk.tokenize import word_tokenize\n",
        "\n",
        "# ambil stopword bawaan\n",
        "stop_factory = StopWordRemoverFactory().get_stop_words()\n",
        "more_stopword = ['dikampus']\n",
        "\n",
        "kalimat = \"Adhys kerap tidur saat pelajaran dikampus. Menurut Adhys tidur itu ibadah.\"\n",
        "kalimat = kalimat.translate(str.maketrans('','',string.punctuation)).lower()\n",
        "\n",
        "# menggabungkan stopword\n",
        "data = stop_factory + more_stopword\n",
        "\n",
        "dictionary = ArrayDictionary(data)\n",
        "str = StopWordRemover(dictionary)\n",
        "tokens = nltk.tokenize.word_tokenize(str.remove(kalimat))\n",
        "\n",
        "print(tokens)"
      ],
      "metadata": {
        "colab": {
          "base_uri": "https://localhost:8080/"
        },
        "id": "zuLCi9uwp8qc",
        "outputId": "0d6b361c-87ed-48b5-bb0e-28d9ca072a38"
      },
      "execution_count": null,
      "outputs": [
        {
          "output_type": "stream",
          "name": "stdout",
          "text": [
            "['adhys', 'kerap', 'tidur', 'pelajaran', 'menurut', 'adhys', 'tidur', 'ibadah']\n"
          ]
        }
      ]
    },
    {
      "cell_type": "markdown",
      "source": [
        "##Stemming Bahasa Indonesia using Sastrawi##"
      ],
      "metadata": {
        "id": "t9FcRufquetd"
      }
    },
    {
      "cell_type": "code",
      "source": [
        "from Sastrawi.Stemmer.StemmerFactory import StemmerFactory\n",
        "factory = StemmerFactory()\n",
        "stemmer = factory.create_stemmer()\n",
        "\n",
        "kalimat = \"Adhys kerap tidur saat pelajaran dikampus. Menurut Adhys tidur itu ibadah.\"\n",
        "\n",
        "hasil = stemmer.stem(kalimat)\n",
        "\n",
        "hasil"
      ],
      "metadata": {
        "colab": {
          "base_uri": "https://localhost:8080/",
          "height": 35
        },
        "id": "rTYeu8fjrRxy",
        "outputId": "9ca80416-1258-49f8-c6fb-99ddc72c280a"
      },
      "execution_count": null,
      "outputs": [
        {
          "output_type": "execute_result",
          "data": {
            "text/plain": [
              "'adhys kerap tidur saat ajar kampus turut adhys tidur itu ibadah'"
            ],
            "application/vnd.google.colaboratory.intrinsic+json": {
              "type": "string"
            }
          },
          "metadata": {},
          "execution_count": 36
        }
      ]
    }
  ]
}