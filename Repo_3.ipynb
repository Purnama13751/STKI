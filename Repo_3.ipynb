{
  "nbformat": 4,
  "nbformat_minor": 0,
  "metadata": {
    "colab": {
      "provenance": []
    },
    "kernelspec": {
      "name": "python3",
      "display_name": "Python 3"
    },
    "language_info": {
      "name": "python"
    }
  },
  "cells": [
    {
      "cell_type": "code",
      "execution_count": 1,
      "metadata": {
        "id": "HdasGmHmOtPA"
      },
      "outputs": [],
      "source": [
        "from sklearn.feature_extraction.text import CountVectorizer\n",
        "from sklearn.metrics.pairwise import cosine_similarity"
      ]
    },
    {
      "cell_type": "markdown",
      "source": [
        "**Dokumen Query**"
      ],
      "metadata": {
        "id": "zL0Jud1xO6FM"
      }
    },
    {
      "cell_type": "code",
      "source": [
        "documents = [\"Daun bewarna coklat\", \"Bunga bewarna hijau\", \"Rumput bewarna hijau\"]\n",
        "query = \"Daun hijau\""
      ],
      "metadata": {
        "id": "omF8Ag3cPAT3"
      },
      "execution_count": 2,
      "outputs": []
    },
    {
      "cell_type": "markdown",
      "source": [
        "**Inisialisasi CountVectorizer**"
      ],
      "metadata": {
        "id": "2IHskMZhPDL_"
      }
    },
    {
      "cell_type": "code",
      "source": [
        "vectorizer = CountVectorizer()"
      ],
      "metadata": {
        "id": "dAoR1EBDPJAq"
      },
      "execution_count": 3,
      "outputs": []
    },
    {
      "cell_type": "markdown",
      "source": [
        "**Mengubah dokumen menjadi vektor kata**"
      ],
      "metadata": {
        "id": "XO0jnpPNPL5T"
      }
    },
    {
      "cell_type": "code",
      "source": [
        "document_vectors = vectorizer.fit_transform(documents)\n",
        "query_vector = vectorizer.transform([query])"
      ],
      "metadata": {
        "id": "4KBpnJGKPUGV"
      },
      "execution_count": 4,
      "outputs": []
    },
    {
      "cell_type": "markdown",
      "source": [
        "**Menghitung Cosine Similarity**"
      ],
      "metadata": {
        "id": "UQKXJnYaPXSR"
      }
    },
    {
      "cell_type": "code",
      "source": [
        "cosine_similarities = cosine_similarity(query_vector, document_vectors)"
      ],
      "metadata": {
        "id": "klxn3dX-Pbkg"
      },
      "execution_count": 5,
      "outputs": []
    },
    {
      "cell_type": "markdown",
      "source": [
        "**Mendapatkan indeks dokumen dengan kemiripan tertinggi**"
      ],
      "metadata": {
        "id": "bT8xCqydPe7B"
      }
    },
    {
      "cell_type": "code",
      "source": [
        "most_similar_document_index = cosine_similarities.argmax()"
      ],
      "metadata": {
        "id": "atjZINt6Pio4"
      },
      "execution_count": 6,
      "outputs": []
    },
    {
      "cell_type": "markdown",
      "source": [
        "**Mendapatkan nilai kemiripan**"
      ],
      "metadata": {
        "id": "BzRWLtrdPq3D"
      }
    },
    {
      "cell_type": "code",
      "source": [
        "similarity_score = cosine_similarities[0][most_similar_document_index]"
      ],
      "metadata": {
        "id": "PGPUtMZJPvHY"
      },
      "execution_count": 7,
      "outputs": []
    },
    {
      "cell_type": "markdown",
      "source": [
        "**Mendapatkan dokumen terkait**"
      ],
      "metadata": {
        "id": "dTJdvL1NPxt0"
      }
    },
    {
      "cell_type": "code",
      "source": [
        "most_similar_document = documents[most_similar_document_index]\n",
        "\n",
        "print(\"Dokumen yang paling mirip:\", most_similar_document)\n",
        "print(\"Nilai Kemiripan (Cosine Similarity):\", similarity_score)"
      ],
      "metadata": {
        "colab": {
          "base_uri": "https://localhost:8080/"
        },
        "id": "PyeCEN7PP1Zp",
        "outputId": "e5c41103-456b-412f-a511-47e0e08659bd"
      },
      "execution_count": 8,
      "outputs": [
        {
          "output_type": "stream",
          "name": "stdout",
          "text": [
            "Dokumen yang paling mirip: Daun bewarna coklat\n",
            "Nilai Kemiripan (Cosine Similarity): 0.408248290463863\n"
          ]
        }
      ]
    }
  ]
}