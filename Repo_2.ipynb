{
  "nbformat": 4,
  "nbformat_minor": 0,
  "metadata": {
    "colab": {
      "provenance": []
    },
    "kernelspec": {
      "name": "python3",
      "display_name": "Python 3"
    },
    "language_info": {
      "name": "python"
    }
  },
  "cells": [
    {
      "cell_type": "code",
      "execution_count": 33,
      "metadata": {
        "colab": {
          "base_uri": "https://localhost:8080/"
        },
        "id": "KDRXyIrCCz0G",
        "outputId": "5e67bce0-fda0-4c1c-d0ac-fc1a0a6759dd"
      },
      "outputs": [
        {
          "output_type": "stream",
          "name": "stdout",
          "text": [
            "Incidence Matrix:\n",
            "[1, 1, 0]\n",
            "[1, 1, 1]\n",
            "[1, 1, 1]\n",
            "[1, 1, 1]\n",
            "\n",
            "Hasil query boolean:\n",
            "Query 1 (Home AND Sales AND NOT July):\n",
            "Doc 1: New Home Sales Top Forecasts\n",
            "\n",
            "Query 2 (Home AND July AND NOT Sales):\n"
          ]
        }
      ],
      "source": [
        "# Dokumen-dokumen\n",
        "documents = [\n",
        "    \"New Home Sales Top Forecasts\",\n",
        "    \"Home Sales Rise In July\",\n",
        "    \"Increase In Home Sales In July\",\n",
        "    \"July New Home Sales Rise\"\n",
        "]\n",
        "\n",
        "\n",
        "# Kata kunci yang akan digunakan\n",
        "keywords = [\"Home\", \"Sales\", \"July\"]\n",
        "\n",
        "# Membuat Incidence Matrix\n",
        "def create_incidence_matrix(documents, keywords):\n",
        "    matrix = []\n",
        "    for doc in documents:\n",
        "        row = []\n",
        "        for keyword in keywords:\n",
        "            if keyword.lower() in doc.lower():\n",
        "                row.append(1)\n",
        "            else:\n",
        "                row.append(0)\n",
        "        matrix.append(row)\n",
        "    return matrix\n",
        "\n",
        "# Memanggil fungsi untuk membuat Incidence Matrix\n",
        "incidence_matrix = create_incidence_matrix(documents, keywords)\n",
        "\n",
        "# Query Boolean Retrieval\n",
        "def boolean_query_retrieval(matrix, query):\n",
        "    results = [] * len(documents)\n",
        "    for i in range(len(documents)):\n",
        "        doc_matches = []\n",
        "        j = 0\n",
        "        while j < len(query):\n",
        "            if query[j] == \"AND\":\n",
        "                j += 1\n",
        "            elif query[j] == \"NOT\":\n",
        "                j += 1\n",
        "                if j < len(query) and query[j] in keywords:\n",
        "                    keyword_index = keywords.index(query[j])\n",
        "                    if matrix[i][keyword_index] == 1:\n",
        "                        doc_matches.append(False)\n",
        "            else:\n",
        "                if query[j] in keywords:\n",
        "                    keyword_index = keywords.index(query[j])\n",
        "                    if matrix[i][keyword_index] == 1:\n",
        "                        doc_matches.append(True)\n",
        "                j += 1\n",
        "        if all(doc_matches):\n",
        "            results.append(f\"Doc {i + 1}: {documents[i]}\")\n",
        "    return results\n",
        "\n",
        "# Query 1: Home AND Sales AND NOT July\n",
        "query1 = [\"Home\", \"AND\", \"Sales\", \"AND\", \"NOT\", \"July\"]\n",
        "result1 = boolean_query_retrieval(incidence_matrix, query1)\n",
        "\n",
        "# Query 2: Home AND July AND NOT Sales\n",
        "query2 = [\"Home\", \"AND\", \"July\", \"AND\", \"NOT\", \"Sales\"]\n",
        "result2 = boolean_query_retrieval(incidence_matrix, query2)\n",
        "\n",
        "# Menampilkan hasil\n",
        "print(\"Incidence Matrix:\")\n",
        "for row in incidence_matrix:\n",
        "    print(row)\n",
        "\n",
        "print(\"\\nHasil query boolean:\")\n",
        "print(\"Query 1 (Home AND Sales AND NOT July):\")\n",
        "for res in result1:\n",
        "    print(res)\n",
        "print(\"\\nQuery 2 (Home AND July AND NOT Sales):\")\n",
        "for res in result2:\n",
        "    print(res)"
      ]
    }
  ]
}